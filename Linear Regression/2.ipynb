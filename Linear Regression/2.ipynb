{
 "cells": [
  {
   "cell_type": "code",
   "execution_count": 3,
   "metadata": {},
   "outputs": [],
   "source": [
    "import pandas as pd\n",
    "import matplotlib.pyplot as plt\n",
    "import numpy as np"
   ]
  },
  {
   "cell_type": "code",
   "execution_count": 7,
   "metadata": {},
   "outputs": [],
   "source": [
    "def getY_pred(c1, c2, x):\n",
    "    mul = np.dot(c2, x)\n",
    "    summ = np.add(c1, mul)\n",
    "    return summ\n",
    "\n",
    "def getC0(y_pred, y):\n",
    "    sub = y_pred - y\n",
    "    div = (np.sum(sub))\n",
    "    return np.divide(np.sum(sub), len(y))\n",
    "\n",
    "def getC1(y_pred, x, y):\n",
    "    sub = np.subtract(y_pred,y)\n",
    "    mul = np.multiply(sub, x)\n",
    "    return np.divide(np.sum(mul), len(y))\n",
    "\n",
    "def getMse(y_pred, y):\n",
    "    sub = np.subtract(y_pred,y)\n",
    "    power = np.square(sub)\n",
    "    summ = np.sum(power)\n",
    "    return np.divide(summ , 2 * len(y))"
   ]
  },
  {
   "cell_type": "code",
   "execution_count": 8,
   "metadata": {},
   "outputs": [],
   "source": [
    "data = pd.read_csv('house_data.csv', index_col = 0)\n",
    "x = data['sqft_living'].values.reshape([-1,1])\n",
    "y = data['price'].values.reshape([-1,1])\n",
    "\n",
    "X_train = x[:17292]\n",
    "Y_train = y[:17292]\n",
    "\n",
    "X_test = x[17292:]\n",
    "Y_test = y[17292:]"
   ]
  },
  {
   "cell_type": "code",
   "execution_count": 11,
   "metadata": {},
   "outputs": [],
   "source": [
    "c = []\n",
    "for i in range(6):\n",
    "    c.append(np.random.normal())\n",
    "    \n",
    "LR = 0.000000001\n",
    "m = 1000"
   ]
  },
  {
   "cell_type": "code",
   "execution_count": null,
   "metadata": {},
   "outputs": [],
   "source": []
  }
 ],
 "metadata": {
  "kernelspec": {
   "display_name": "Python 3",
   "language": "python",
   "name": "python3"
  },
  "language_info": {
   "codemirror_mode": {
    "name": "ipython",
    "version": 3
   },
   "file_extension": ".py",
   "mimetype": "text/x-python",
   "name": "python",
   "nbconvert_exporter": "python",
   "pygments_lexer": "ipython3",
   "version": "3.9.0"
  }
 },
 "nbformat": 4,
 "nbformat_minor": 4
}
